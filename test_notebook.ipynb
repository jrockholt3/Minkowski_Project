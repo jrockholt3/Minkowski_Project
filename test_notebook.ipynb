{
 "cells": [
  {
   "cell_type": "code",
   "execution_count": 1,
   "id": "412a3cf7",
   "metadata": {},
   "outputs": [],
   "source": [
    "import Robot3D\n",
    "from Robot3D import robot_3link as Robot\n",
    "from Robot3D import rand_object as Object\n",
    "from Robot3D import workspace_limits"
   ]
  },
  {
   "cell_type": "code",
   "execution_count": 2,
   "id": "fcb6145e",
   "metadata": {},
   "outputs": [],
   "source": [
    "robot = Robot()\n",
    "obj = Object()\n"
   ]
  },
  {
   "cell_type": "code",
   "execution_count": 3,
   "id": "ed7485f7",
   "metadata": {},
   "outputs": [
    {
     "name": "stdout",
     "output_type": "stream",
     "text": [
      "[[-0.6  0.6]\n",
      " [-0.6  0.6]\n",
      " [ 0.   0.9]]\n"
     ]
    }
   ],
   "source": [
    "print(workspace_limits)"
   ]
  },
  {
   "cell_type": "code",
   "execution_count": 4,
   "id": "88f6cd53",
   "metadata": {},
   "outputs": [],
   "source": [
    "\n",
    "def object_hasher(scene_obj,\n",
    "          res_x=.01, res_y=.01, res_z=.01):\n",
    "    # This function takes a scene object and then outputs a list of occupied indexs of \n",
    "    # of the \"workspace array\"\n",
    "    obj = scene_obj\n",
    "    r = obj.radius\n",
    "    x_min,y_min,z_min = obj.curr_pos[0]-r,obj.curr_pos[1]-r,obj.curr_pos[2]-r\n",
    "    \n",
    "    \n",
    "    x\n",
    "    \n",
    "    "
   ]
  },
  {
   "cell_type": "code",
   "execution_count": 6,
   "id": "5259f23f",
   "metadata": {},
   "outputs": [
    {
     "name": "stdout",
     "output_type": "stream",
     "text": [
      "[ 0.06846602 -0.2654814   0.75076145] [-0.01789962 -0.27358285  0.67491288]\n"
     ]
    }
   ],
   "source": [
    "print(obj.curr_pos, obj.goal)"
   ]
  },
  {
   "cell_type": "code",
   "execution_count": 10,
   "id": "7eccf2d0",
   "metadata": {},
   "outputs": [
    {
     "name": "stdout",
     "output_type": "stream",
     "text": [
      "[0.  0.9]\n"
     ]
    }
   ],
   "source": [
    "print(workspace_limits[2,:])"
   ]
  }
 ],
 "metadata": {
  "kernelspec": {
   "display_name": "Python 3",
   "language": "python",
   "name": "python3"
  },
  "language_info": {
   "codemirror_mode": {
    "name": "ipython",
    "version": 3
   },
   "file_extension": ".py",
   "mimetype": "text/x-python",
   "name": "python",
   "nbconvert_exporter": "python",
   "pygments_lexer": "ipython3",
   "version": "3.8.10"
  }
 },
 "nbformat": 4,
 "nbformat_minor": 5
}
